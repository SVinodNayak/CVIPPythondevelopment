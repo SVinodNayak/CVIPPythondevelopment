{
  "nbformat": 4,
  "nbformat_minor": 0,
  "metadata": {
    "colab": {
      "provenance": [],
      "authorship_tag": "ABX9TyMZVlX0U7UZ1zt/2+YPrDzs",
      "include_colab_link": true
    },
    "kernelspec": {
      "name": "python3",
      "display_name": "Python 3"
    },
    "language_info": {
      "name": "python"
    }
  },
  "cells": [
    {
      "cell_type": "markdown",
      "metadata": {
        "id": "view-in-github",
        "colab_type": "text"
      },
      "source": [
        "<a href=\"https://colab.research.google.com/github/SVinodNayak/CVIPPythondevelopment/blob/main/Python_Development_Intern.ipynb\" target=\"_parent\"><img src=\"https://colab.research.google.com/assets/colab-badge.svg\" alt=\"Open In Colab\"/></a>"
      ]
    },
    {
      "cell_type": "code",
      "execution_count": null,
      "metadata": {
        "colab": {
          "base_uri": "https://localhost:8080/"
        },
        "id": "rpwaYVZKeELz",
        "outputId": "e766fc4b-bed3-4707-df32-2038f1b3f3b2"
      },
      "outputs": [
        {
          "output_type": "stream",
          "name": "stdout",
          "text": [
            "Do select the operation to be performed :\n",
            "1. Addition\n",
            "2. Subtraction\n",
            "3. Multiplication\n",
            "4. Division\n",
            "\n",
            "Select the operations from 1, 2, 3, 4 :1\n",
            "Enter first number: 55\n",
            "Enter second number: 55\n",
            "55 + 55 = 110\n"
          ]
        }
      ],
      "source": [
        "# Python program for simple calculator\n",
        "\n",
        "# Function for addition of 2 numbers\n",
        "def add(number1, number2):\n",
        "    return number1 + number2\n",
        "\n",
        "# Function for substraction of 2 numbers\n",
        "def subtract(number1, number2):\n",
        "    return number1 - number2\n",
        "\n",
        "# Function for multiplication of 2 numbers\n",
        "def multiply(number1, number2):\n",
        "    return number1 * number2\n",
        "\n",
        "# Function for division of 2 numbers\n",
        "def divide(number1, number2):\n",
        "    return number1 / number2\n",
        "\n",
        "print(\"Do select the operation to be performed :\\n\" \\\n",
        "        \"1. Addition\\n\" \\\n",
        "        \"2. Subtraction\\n\" \\\n",
        "        \"3. Multiplication\\n\" \\\n",
        "        \"4. Division\\n\")\n",
        "\n",
        "\n",
        "#taking the input\n",
        "choice = int(input(\"Select the operations from 1, 2, 3, 4 :\"))\n",
        "\n",
        "number_1 = int(input(\"Enter first number: \"))\n",
        "number_2 = int(input(\"Enter second number: \"))\n",
        "\n",
        "if choice == 1:\n",
        "    print(number_1, \"+\", number_2, \"=\",\n",
        "                    add(number_1, number_2))\n",
        "\n",
        "elif choice == 2:\n",
        "    print(number_1, \"-\", number_2, \"=\",\n",
        "                    subtract(number_1, number_2))\n",
        "\n",
        "elif choice == 3:\n",
        "    print(number_1, \"*\", number_2, \"=\",\n",
        "                    multiply(number_1, number_2))\n",
        "\n",
        "elif choice == 4:\n",
        "    print(number_1, \"/\", number_2, \"=\",\n",
        "                    divide(number_1, number_2))\n",
        "else:\n",
        "    print(\"Invalid input = error\")\n"
      ]
    },
    {
      "cell_type": "code",
      "source": [
        "#Random Password Generator\n",
        "import string\n",
        "import random\n",
        "\n",
        "length = int(input(\"Enter the password length: \"))\n",
        "\n",
        "print('''Choose character set for password  :\n",
        "         1. Digits\n",
        "         2. Letters\n",
        "         3. Special characters\n",
        "         4. Leave''')\n",
        "\n",
        "characterList = \"\"\n",
        "\n",
        "# Getting character set for password\n",
        "while(True):\n",
        "    select = int(input(\"choose a number \"))\n",
        "    if(select == 1):\n",
        "        characterList += string.ascii_letters\n",
        "    elif(select == 2):\n",
        "        characterList += string.digits\n",
        "    elif(select== 3):\n",
        "        characterList += string.punctuation\n",
        "    elif(select == 4):\n",
        "        break\n",
        "    else:\n",
        "        print(\"Do pick a valid choice as input\")\n",
        "\n",
        "password = []\n",
        "\n",
        "for i in range(length):\n",
        "    randomchar = random.choice(characterList)\n",
        "    password.append(randomchar)\n",
        " #password to be printed is\n",
        "print(\"The random password is \" + \"\".join(password))"
      ],
      "metadata": {
        "colab": {
          "base_uri": "https://localhost:8080/"
        },
        "id": "R9bsqnEAeqfL",
        "outputId": "cc031066-87fb-465d-9410-5782ae74ff8e"
      },
      "execution_count": null,
      "outputs": [
        {
          "output_type": "stream",
          "name": "stdout",
          "text": [
            "Enter the password length: 5\n",
            "Choose character set for password  :\n",
            "         1. Digits\n",
            "         2. Letters\n",
            "         3. Special characters\n",
            "         4. Leave\n",
            "choose a number 1\n",
            "choose a number 2\n",
            "choose a number 3\n",
            "choose a number 4\n",
            "The random password is (rcEY\n"
          ]
        }
      ]
    }
  ]
}